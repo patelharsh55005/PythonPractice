{
 "cells": [
  {
   "cell_type": "code",
   "execution_count": 3,
   "id": "6599d120-dd18-4ac9-a037-b3ec07ff0c73",
   "metadata": {},
   "outputs": [
    {
     "name": "stdin",
     "output_type": "stream",
     "text": [
      "Please Enter String Value::: Gujarat\n"
     ]
    },
    {
     "name": "stdout",
     "output_type": "stream",
     "text": [
      "Gujarat\n"
     ]
    }
   ],
   "source": [
    "# Programme-1 Variable Define and print value\n",
    "namevar = input(\"Please Enter String Value:::\");\n",
    "print(namevar)"
   ]
  },
  {
   "cell_type": "code",
   "execution_count": null,
   "id": "e3737a14-0856-4293-8813-fbf82e7bcc78",
   "metadata": {},
   "outputs": [],
   "source": []
  }
 ],
 "metadata": {
  "kernelspec": {
   "display_name": "Python 3 (ipykernel)",
   "language": "python",
   "name": "python3"
  },
  "language_info": {
   "codemirror_mode": {
    "name": "ipython",
    "version": 3
   },
   "file_extension": ".py",
   "mimetype": "text/x-python",
   "name": "python",
   "nbconvert_exporter": "python",
   "pygments_lexer": "ipython3",
   "version": "3.11.4"
  }
 },
 "nbformat": 4,
 "nbformat_minor": 5
}
